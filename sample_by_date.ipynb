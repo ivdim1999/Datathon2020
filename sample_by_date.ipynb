{
 "cells": [
  {
   "cell_type": "code",
   "execution_count": 48,
   "metadata": {},
   "outputs": [],
   "source": [
    "import pandas as pd\n",
    "import matplotlib.pyplot as plt\n",
    "import numpy as np\n",
    "from datetime import datetime\n",
    "from scipy.stats import mode"
   ]
  },
  {
   "cell_type": "code",
   "execution_count": 49,
   "metadata": {},
   "outputs": [],
   "source": [
    "df1 = pd.read_csv('dataset_1.csv').dropna()"
   ]
  },
  {
   "cell_type": "code",
   "execution_count": 50,
   "metadata": {},
   "outputs": [
    {
     "data": {
      "text/plain": [
       "tripduration                 int64\n",
       "starttime           datetime64[ns]\n",
       "stoptime            datetime64[ns]\n",
       "start_station_id             int64\n",
       "end_station_id               int64\n",
       "bikeid                       int64\n",
       "usertype                     int64\n",
       "birthyear                  float64\n",
       "gender                       int64\n",
       "dtype: object"
      ]
     },
     "execution_count": 50,
     "metadata": {},
     "output_type": "execute_result"
    }
   ],
   "source": [
    "df1['starttime'] = pd.to_datetime(df1['starttime'])\n",
    "df1['stoptime'] = pd.to_datetime(df1['stoptime'])\n",
    "df1.dtypes"
   ]
  },
  {
   "cell_type": "code",
   "execution_count": 51,
   "metadata": {},
   "outputs": [
    {
     "data": {
      "text/html": [
       "<div>\n",
       "<style scoped>\n",
       "    .dataframe tbody tr th:only-of-type {\n",
       "        vertical-align: middle;\n",
       "    }\n",
       "\n",
       "    .dataframe tbody tr th {\n",
       "        vertical-align: top;\n",
       "    }\n",
       "\n",
       "    .dataframe thead th {\n",
       "        text-align: right;\n",
       "    }\n",
       "</style>\n",
       "<table border=\"1\" class=\"dataframe\">\n",
       "  <thead>\n",
       "    <tr style=\"text-align: right;\">\n",
       "      <th></th>\n",
       "      <th>tripduration</th>\n",
       "      <th>starttime</th>\n",
       "      <th>stoptime</th>\n",
       "      <th>start_station_id</th>\n",
       "      <th>end_station_id</th>\n",
       "      <th>bikeid</th>\n",
       "      <th>usertype</th>\n",
       "      <th>birthyear</th>\n",
       "      <th>gender</th>\n",
       "    </tr>\n",
       "  </thead>\n",
       "  <tbody>\n",
       "    <tr>\n",
       "      <th>1</th>\n",
       "      <td>1521</td>\n",
       "      <td>2013-06-01 00:01:00</td>\n",
       "      <td>2013-06-01 00:26:00</td>\n",
       "      <td>2008</td>\n",
       "      <td>310</td>\n",
       "      <td>15567</td>\n",
       "      <td>1</td>\n",
       "      <td>1983.0</td>\n",
       "      <td>1</td>\n",
       "    </tr>\n",
       "    <tr>\n",
       "      <th>3</th>\n",
       "      <td>1829</td>\n",
       "      <td>2013-06-01 00:03:00</td>\n",
       "      <td>2013-06-01 00:34:00</td>\n",
       "      <td>265</td>\n",
       "      <td>436</td>\n",
       "      <td>15234</td>\n",
       "      <td>1</td>\n",
       "      <td>1984.0</td>\n",
       "      <td>1</td>\n",
       "    </tr>\n",
       "    <tr>\n",
       "      <th>4</th>\n",
       "      <td>899</td>\n",
       "      <td>2013-06-01 00:09:00</td>\n",
       "      <td>2013-06-01 00:24:00</td>\n",
       "      <td>494</td>\n",
       "      <td>494</td>\n",
       "      <td>15539</td>\n",
       "      <td>1</td>\n",
       "      <td>1967.0</td>\n",
       "      <td>1</td>\n",
       "    </tr>\n",
       "    <tr>\n",
       "      <th>5</th>\n",
       "      <td>395</td>\n",
       "      <td>2013-06-01 00:11:00</td>\n",
       "      <td>2013-06-01 00:18:00</td>\n",
       "      <td>312</td>\n",
       "      <td>410</td>\n",
       "      <td>19477</td>\n",
       "      <td>1</td>\n",
       "      <td>1970.0</td>\n",
       "      <td>1</td>\n",
       "    </tr>\n",
       "    <tr>\n",
       "      <th>6</th>\n",
       "      <td>424</td>\n",
       "      <td>2013-06-01 00:11:00</td>\n",
       "      <td>2013-06-01 00:18:00</td>\n",
       "      <td>494</td>\n",
       "      <td>519</td>\n",
       "      <td>18489</td>\n",
       "      <td>1</td>\n",
       "      <td>1957.0</td>\n",
       "      <td>1</td>\n",
       "    </tr>\n",
       "    <tr>\n",
       "      <th>7</th>\n",
       "      <td>1077</td>\n",
       "      <td>2013-06-01 00:12:00</td>\n",
       "      <td>2013-06-01 00:30:00</td>\n",
       "      <td>482</td>\n",
       "      <td>480</td>\n",
       "      <td>16963</td>\n",
       "      <td>1</td>\n",
       "      <td>1982.0</td>\n",
       "      <td>1</td>\n",
       "    </tr>\n",
       "    <tr>\n",
       "      <th>8</th>\n",
       "      <td>689</td>\n",
       "      <td>2013-06-02 00:12:00</td>\n",
       "      <td>2013-06-01 00:24:00</td>\n",
       "      <td>439</td>\n",
       "      <td>317</td>\n",
       "      <td>16164</td>\n",
       "      <td>1</td>\n",
       "      <td>1982.0</td>\n",
       "      <td>1</td>\n",
       "    </tr>\n",
       "  </tbody>\n",
       "</table>\n",
       "</div>"
      ],
      "text/plain": [
       "   tripduration           starttime            stoptime  start_station_id  \\\n",
       "1          1521 2013-06-01 00:01:00 2013-06-01 00:26:00              2008   \n",
       "3          1829 2013-06-01 00:03:00 2013-06-01 00:34:00               265   \n",
       "4           899 2013-06-01 00:09:00 2013-06-01 00:24:00               494   \n",
       "5           395 2013-06-01 00:11:00 2013-06-01 00:18:00               312   \n",
       "6           424 2013-06-01 00:11:00 2013-06-01 00:18:00               494   \n",
       "7          1077 2013-06-01 00:12:00 2013-06-01 00:30:00               482   \n",
       "8           689 2013-06-02 00:12:00 2013-06-01 00:24:00               439   \n",
       "\n",
       "   end_station_id  bikeid  usertype  birthyear  gender  \n",
       "1             310   15567         1     1983.0       1  \n",
       "3             436   15234         1     1984.0       1  \n",
       "4             494   15539         1     1967.0       1  \n",
       "5             410   19477         1     1970.0       1  \n",
       "6             519   18489         1     1957.0       1  \n",
       "7             480   16963         1     1982.0       1  \n",
       "8             317   16164         1     1982.0       1  "
      ]
     },
     "execution_count": 51,
     "metadata": {},
     "output_type": "execute_result"
    }
   ],
   "source": [
    "df1"
   ]
  },
  {
   "cell_type": "code",
   "execution_count": 70,
   "metadata": {},
   "outputs": [],
   "source": [
    "df1['date_minus_time'] = df1[\"starttime\"].apply( lambda df1 : \n",
    "datetime(year=df1.year, month=df1.month, day=df1.day))\t\n",
    "df1.set_index(df1[\"date_minus_time\"], inplace=True)"
   ]
  },
  {
   "cell_type": "code",
   "execution_count": 60,
   "metadata": {},
   "outputs": [],
   "source": [
    "resampled_df = pd.DataFrame()\n",
    "resampled_df['tripduration'] = df1['tripduration'].resample('D').mean()\n",
    "resampled_df['birthyear'] = df1['birthyear'].resample('D').mean()\n",
    "resampled_df['gender'] = df1['gender'].resample('D').mean() #mode()\n",
    "resampled_df['usertype'] = df1['usertype'].resample('D').mean()"
   ]
  },
  {
   "cell_type": "code",
   "execution_count": 61,
   "metadata": {},
   "outputs": [
    {
     "data": {
      "text/html": [
       "<div>\n",
       "<style scoped>\n",
       "    .dataframe tbody tr th:only-of-type {\n",
       "        vertical-align: middle;\n",
       "    }\n",
       "\n",
       "    .dataframe tbody tr th {\n",
       "        vertical-align: top;\n",
       "    }\n",
       "\n",
       "    .dataframe thead th {\n",
       "        text-align: right;\n",
       "    }\n",
       "</style>\n",
       "<table border=\"1\" class=\"dataframe\">\n",
       "  <thead>\n",
       "    <tr style=\"text-align: right;\">\n",
       "      <th></th>\n",
       "      <th>tripduration</th>\n",
       "      <th>birthyear</th>\n",
       "      <th>gender</th>\n",
       "      <th>usertype</th>\n",
       "    </tr>\n",
       "    <tr>\n",
       "      <th>date_minus_time</th>\n",
       "      <th></th>\n",
       "      <th></th>\n",
       "      <th></th>\n",
       "      <th></th>\n",
       "    </tr>\n",
       "  </thead>\n",
       "  <tbody>\n",
       "    <tr>\n",
       "      <th>2013-06-01</th>\n",
       "      <td>1024.166667</td>\n",
       "      <td>1973.833333</td>\n",
       "      <td>1</td>\n",
       "      <td>1</td>\n",
       "    </tr>\n",
       "    <tr>\n",
       "      <th>2013-06-02</th>\n",
       "      <td>689.000000</td>\n",
       "      <td>1982.000000</td>\n",
       "      <td>1</td>\n",
       "      <td>1</td>\n",
       "    </tr>\n",
       "  </tbody>\n",
       "</table>\n",
       "</div>"
      ],
      "text/plain": [
       "                 tripduration    birthyear  gender  usertype\n",
       "date_minus_time                                             \n",
       "2013-06-01        1024.166667  1973.833333       1         1\n",
       "2013-06-02         689.000000  1982.000000       1         1"
      ]
     },
     "execution_count": 61,
     "metadata": {},
     "output_type": "execute_result"
    }
   ],
   "source": [
    "resampled_df"
   ]
  },
  {
   "cell_type": "code",
   "execution_count": 69,
   "metadata": {},
   "outputs": [
    {
     "data": {
      "text/plain": [
       "[<matplotlib.lines.Line2D at 0x190833a20c8>]"
      ]
     },
     "execution_count": 69,
     "metadata": {},
     "output_type": "execute_result"
    },
    {
     "data": {
      "image/png": "[encoded data removed]",
      "text/plain": [
       "<Figure size 432x288 with 1 Axes>"
      ]
     },
     "metadata": {
      "needs_background": "light"
     },
     "output_type": "display_data"
    }
   ],
   "source": [
    "plt.plot(resampled_df.index, resampled_df['tripduration'],'o')"
   ]
  },
  {
   "cell_type": "code",
   "execution_count": null,
   "metadata": {},
   "outputs": [],
   "source": []
  }
 ],
 "metadata": {
  "kernelspec": {
   "display_name": "Python 3",
   "language": "python",
   "name": "python3"
  },
  "language_info": {
   "codemirror_mode": {
    "name": "ipython",
    "version": 3
   },
   "file_extension": ".py",
   "mimetype": "text/x-python",
   "name": "python",
   "nbconvert_exporter": "python",
   "pygments_lexer": "ipython3",
   "version": "3.7.5"
  }
 },
 "nbformat": 4,
 "nbformat_minor": 2
}
